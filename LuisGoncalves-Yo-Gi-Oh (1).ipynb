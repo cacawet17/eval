{
 "cells": [
  {
   "cell_type": "code",
   "execution_count": 66,
   "metadata": {},
   "outputs": [
    {
     "data": {
      "text/html": [
       "<div>\n",
       "<style scoped>\n",
       "    .dataframe tbody tr th:only-of-type {\n",
       "        vertical-align: middle;\n",
       "    }\n",
       "\n",
       "    .dataframe tbody tr th {\n",
       "        vertical-align: top;\n",
       "    }\n",
       "\n",
       "    .dataframe thead th {\n",
       "        text-align: right;\n",
       "    }\n",
       "</style>\n",
       "<table border=\"1\" class=\"dataframe\">\n",
       "  <thead>\n",
       "    <tr style=\"text-align: right;\">\n",
       "      <th></th>\n",
       "      <th>Names</th>\n",
       "      <th>Attributes</th>\n",
       "      <th>Sub-Types</th>\n",
       "      <th>Level</th>\n",
       "      <th>ATK</th>\n",
       "      <th>DEF</th>\n",
       "    </tr>\n",
       "  </thead>\n",
       "  <tbody>\n",
       "    <tr>\n",
       "      <th>0</th>\n",
       "      <td>7 Colored Fish</td>\n",
       "      <td>Water</td>\n",
       "      <td>Fish</td>\n",
       "      <td>4</td>\n",
       "      <td>1800</td>\n",
       "      <td>800</td>\n",
       "    </tr>\n",
       "    <tr>\n",
       "      <th>1</th>\n",
       "      <td>Acrobat Monkey</td>\n",
       "      <td>Earth</td>\n",
       "      <td>Machine</td>\n",
       "      <td>3</td>\n",
       "      <td>1000</td>\n",
       "      <td>1800</td>\n",
       "    </tr>\n",
       "    <tr>\n",
       "      <th>2</th>\n",
       "      <td>Aitsu</td>\n",
       "      <td>Fire</td>\n",
       "      <td>Fairy</td>\n",
       "      <td>5</td>\n",
       "      <td>100</td>\n",
       "      <td>100</td>\n",
       "    </tr>\n",
       "    <tr>\n",
       "      <th>3</th>\n",
       "      <td>Alexandrite Dragon</td>\n",
       "      <td>Light</td>\n",
       "      <td>Dragon</td>\n",
       "      <td>4</td>\n",
       "      <td>2000</td>\n",
       "      <td>100</td>\n",
       "    </tr>\n",
       "    <tr>\n",
       "      <th>4</th>\n",
       "      <td>Alien Shocktrooper</td>\n",
       "      <td>Earth</td>\n",
       "      <td>Reptile</td>\n",
       "      <td>4</td>\n",
       "      <td>1900</td>\n",
       "      <td>800</td>\n",
       "    </tr>\n",
       "    <tr>\n",
       "      <th>...</th>\n",
       "      <td>...</td>\n",
       "      <td>...</td>\n",
       "      <td>...</td>\n",
       "      <td>...</td>\n",
       "      <td>...</td>\n",
       "      <td>...</td>\n",
       "    </tr>\n",
       "    <tr>\n",
       "      <th>473</th>\n",
       "      <td>Yamadron</td>\n",
       "      <td>Fire</td>\n",
       "      <td>Dragon</td>\n",
       "      <td>5</td>\n",
       "      <td>1600</td>\n",
       "      <td>1800</td>\n",
       "    </tr>\n",
       "    <tr>\n",
       "      <th>474</th>\n",
       "      <td>Yaranzo</td>\n",
       "      <td>Dark</td>\n",
       "      <td>Zombie</td>\n",
       "      <td>4</td>\n",
       "      <td>1300</td>\n",
       "      <td>1500</td>\n",
       "    </tr>\n",
       "    <tr>\n",
       "      <th>475</th>\n",
       "      <td>Zoa</td>\n",
       "      <td>Dark</td>\n",
       "      <td>Fiend</td>\n",
       "      <td>7</td>\n",
       "      <td>2600</td>\n",
       "      <td>1900</td>\n",
       "    </tr>\n",
       "    <tr>\n",
       "      <th>476</th>\n",
       "      <td>Zombino</td>\n",
       "      <td>Earth</td>\n",
       "      <td>Zombie</td>\n",
       "      <td>4</td>\n",
       "      <td>2000</td>\n",
       "      <td>0</td>\n",
       "    </tr>\n",
       "    <tr>\n",
       "      <th>477</th>\n",
       "      <td>Zure, Knight of Dark World</td>\n",
       "      <td>Dark</td>\n",
       "      <td>Fiend</td>\n",
       "      <td>4</td>\n",
       "      <td>1800</td>\n",
       "      <td>1500</td>\n",
       "    </tr>\n",
       "  </tbody>\n",
       "</table>\n",
       "<p>478 rows × 6 columns</p>\n",
       "</div>"
      ],
      "text/plain": [
       "                          Names Attributes Sub-Types  Level   ATK   DEF\n",
       "0                7 Colored Fish      Water      Fish      4  1800   800\n",
       "1                Acrobat Monkey      Earth   Machine      3  1000  1800\n",
       "2                         Aitsu       Fire     Fairy      5   100   100\n",
       "3            Alexandrite Dragon      Light    Dragon      4  2000   100\n",
       "4            Alien Shocktrooper      Earth   Reptile      4  1900   800\n",
       "..                          ...        ...       ...    ...   ...   ...\n",
       "473                    Yamadron       Fire    Dragon      5  1600  1800\n",
       "474                     Yaranzo       Dark    Zombie      4  1300  1500\n",
       "475                         Zoa       Dark     Fiend      7  2600  1900\n",
       "476                     Zombino      Earth    Zombie      4  2000     0\n",
       "477  Zure, Knight of Dark World       Dark     Fiend      4  1800  1500\n",
       "\n",
       "[478 rows x 6 columns]"
      ]
     },
     "execution_count": 66,
     "metadata": {},
     "output_type": "execute_result"
    }
   ],
   "source": [
    "import pandas as pd\n",
    "import seaborn as sns\n",
    "import matplotlib.pyplot as plt\n",
    "import os\n",
    "import numpy as np\n",
    "\n",
    "carte = pd.read_csv(\"Yu-Gi-Oh.csv\")\n",
    "carte"
   ]
  },
  {
   "cell_type": "code",
   "execution_count": 67,
   "metadata": {},
   "outputs": [
    {
     "data": {
      "text/plain": [
       "Names         object\n",
       "Attributes    object\n",
       "Sub-Types     object\n",
       "Level          int64\n",
       "ATK           object\n",
       "DEF           object\n",
       "dtype: object"
      ]
     },
     "execution_count": 67,
     "metadata": {},
     "output_type": "execute_result"
    }
   ],
   "source": [
    "carte.dtypes"
   ]
  },
  {
   "cell_type": "code",
   "execution_count": 68,
   "metadata": {},
   "outputs": [
    {
     "data": {
      "text/plain": [
       "Level    int64\n",
       "ATK      int64\n",
       "DEF      int64\n",
       "dtype: object"
      ]
     },
     "execution_count": 68,
     "metadata": {},
     "output_type": "execute_result"
    }
   ],
   "source": [
    "d = {'Level': [7, 8], 'ATK': [9, 10], 'DEF': [11, 12]}\n",
    "carte = pd.DataFrame(data=d)\n",
    "carte.dtypes"
   ]
  },
  {
   "cell_type": "code",
   "execution_count": 72,
   "metadata": {},
   "outputs": [
    {
     "data": {
      "text/html": [
       "<div>\n",
       "<style scoped>\n",
       "    .dataframe tbody tr th:only-of-type {\n",
       "        vertical-align: middle;\n",
       "    }\n",
       "\n",
       "    .dataframe tbody tr th {\n",
       "        vertical-align: top;\n",
       "    }\n",
       "\n",
       "    .dataframe thead th {\n",
       "        text-align: right;\n",
       "    }\n",
       "</style>\n",
       "<table border=\"1\" class=\"dataframe\">\n",
       "  <thead>\n",
       "    <tr style=\"text-align: right;\">\n",
       "      <th></th>\n",
       "      <th>Level</th>\n",
       "      <th>ATK</th>\n",
       "      <th>DEF</th>\n",
       "    </tr>\n",
       "  </thead>\n",
       "  <tbody>\n",
       "    <tr>\n",
       "      <th>0</th>\n",
       "      <td>7</td>\n",
       "      <td>9</td>\n",
       "      <td>11</td>\n",
       "    </tr>\n",
       "    <tr>\n",
       "      <th>1</th>\n",
       "      <td>8</td>\n",
       "      <td>10</td>\n",
       "      <td>12</td>\n",
       "    </tr>\n",
       "  </tbody>\n",
       "</table>\n",
       "</div>"
      ],
      "text/plain": [
       "   Level  ATK  DEF\n",
       "0      7    9   11\n",
       "1      8   10   12"
      ]
     },
     "execution_count": 72,
     "metadata": {},
     "output_type": "execute_result"
    },
    {
     "data": {
      "image/png": "[encoded data removed]",
      "text/plain": [
       "<Figure size 360x360 with 1 Axes>"
      ]
     },
     "metadata": {},
     "output_type": "display_data"
    }
   ],
   "source": [
    "sns.set()\n",
    "\n",
    "#pd.to_numeric(s, downcast='ATK')\n",
    "\n",
    "carte_filtre=carte[carte[\"Level\"]>4]\n",
    "carte_filtre=carte[carte[\"ATK\"]<1800]\n",
    "sns.relplot(x='ATK', y='Level', data=carte_filtre)\n",
    "\n",
    "carte_filtre"
   ]
  },
  {
   "cell_type": "code",
   "execution_count": null,
   "metadata": {},
   "outputs": [],
   "source": []
  }
 ],
 "metadata": {
  "kernelspec": {
   "display_name": "Python 3",
   "language": "python",
   "name": "python3"
  },
  "language_info": {
   "codemirror_mode": {
    "name": "ipython",
    "version": 3
   },
   "file_extension": ".py",
   "mimetype": "text/x-python",
   "name": "python",
   "nbconvert_exporter": "python",
   "pygments_lexer": "ipython3",
   "version": "3.7.6"
  }
 },
 "nbformat": 4,
 "nbformat_minor": 4
}
